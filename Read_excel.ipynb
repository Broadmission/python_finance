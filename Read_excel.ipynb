{
 "cells": [
  {
   "cell_type": "markdown",
   "metadata": {
    "collapsed": true
   },
   "source": [
    "# 用 Pandas 作excel讀出，.csv寫入"
   ]
  },
  {
   "cell_type": "code",
   "execution_count": 2,
   "metadata": {
    "collapsed": true
   },
   "outputs": [],
   "source": [
    "import pandas as pd"
   ]
  },
  {
   "cell_type": "code",
   "execution_count": 3,
   "metadata": {
    "collapsed": true
   },
   "outputs": [],
   "source": [
    "import numpy as np"
   ]
  },
  {
   "cell_type": "markdown",
   "metadata": {
    "collapsed": true
   },
   "source": [
    "# 讀取excel file"
   ]
  },
  {
   "cell_type": "code",
   "execution_count": 3,
   "metadata": {
    "collapsed": true
   },
   "outputs": [],
   "source": [
    "table = pd.read_excel('1101.xlsx')"
   ]
  },
  {
   "cell_type": "code",
   "execution_count": 4,
   "metadata": {},
   "outputs": [
    {
     "data": {
      "text/html": [
       "<div>\n",
       "<style>\n",
       "    .dataframe thead tr:only-child th {\n",
       "        text-align: right;\n",
       "    }\n",
       "\n",
       "    .dataframe thead th {\n",
       "        text-align: left;\n",
       "    }\n",
       "\n",
       "    .dataframe tbody tr th {\n",
       "        vertical-align: top;\n",
       "    }\n",
       "</style>\n",
       "<table border=\"1\" class=\"dataframe\">\n",
       "  <thead>\n",
       "    <tr style=\"text-align: right;\">\n",
       "      <th></th>\n",
       "      <th>日期</th>\n",
       "      <th>開盤價</th>\n",
       "      <th>漲跌點數</th>\n",
       "    </tr>\n",
       "  </thead>\n",
       "  <tbody>\n",
       "    <tr>\n",
       "      <th>0</th>\n",
       "      <td>20070102</td>\n",
       "      <td>28.04</td>\n",
       "      <td>0.00</td>\n",
       "    </tr>\n",
       "    <tr>\n",
       "      <th>1</th>\n",
       "      <td>20070103</td>\n",
       "      <td>28.14</td>\n",
       "      <td>-0.29</td>\n",
       "    </tr>\n",
       "    <tr>\n",
       "      <th>2</th>\n",
       "      <td>20070104</td>\n",
       "      <td>27.57</td>\n",
       "      <td>-0.09</td>\n",
       "    </tr>\n",
       "    <tr>\n",
       "      <th>3</th>\n",
       "      <td>20070105</td>\n",
       "      <td>27.76</td>\n",
       "      <td>-0.28</td>\n",
       "    </tr>\n",
       "    <tr>\n",
       "      <th>4</th>\n",
       "      <td>20070108</td>\n",
       "      <td>26.96</td>\n",
       "      <td>-0.05</td>\n",
       "    </tr>\n",
       "  </tbody>\n",
       "</table>\n",
       "</div>"
      ],
      "text/plain": [
       "         日期    開盤價  漲跌點數\n",
       "0  20070102  28.04  0.00\n",
       "1  20070103  28.14 -0.29\n",
       "2  20070104  27.57 -0.09\n",
       "3  20070105  27.76 -0.28\n",
       "4  20070108  26.96 -0.05"
      ]
     },
     "execution_count": 4,
     "metadata": {},
     "output_type": "execute_result"
    }
   ],
   "source": [
    "table.head()"
   ]
  },
  {
   "cell_type": "markdown",
   "metadata": {},
   "source": [
    "# 寫入.csv檔"
   ]
  },
  {
   "cell_type": "code",
   "execution_count": 5,
   "metadata": {
    "collapsed": true
   },
   "outputs": [],
   "source": [
    "table.to_csv('out.csv', sep=',')"
   ]
  },
  {
   "cell_type": "markdown",
   "metadata": {},
   "source": [
    "# 寫入.xlsx檔"
   ]
  },
  {
   "cell_type": "code",
   "execution_count": 6,
   "metadata": {
    "collapsed": true
   },
   "outputs": [],
   "source": [
    "writer=pd.ExcelWriter('out.xlsx')\n",
    "table.to_excel(writer,'sheet1',index=False)\n",
    "writer.save()"
   ]
  },
  {
   "cell_type": "markdown",
   "metadata": {},
   "source": [
    "# 利用Pandas抓取網站資料"
   ]
  },
  {
   "cell_type": "code",
   "execution_count": 22,
   "metadata": {},
   "outputs": [
    {
     "data": {
      "text/html": [
       "<div>\n",
       "<style>\n",
       "    .dataframe thead tr:only-child th {\n",
       "        text-align: right;\n",
       "    }\n",
       "\n",
       "    .dataframe thead th {\n",
       "        text-align: left;\n",
       "    }\n",
       "\n",
       "    .dataframe tbody tr th {\n",
       "        vertical-align: top;\n",
       "    }\n",
       "</style>\n",
       "<table border=\"1\" class=\"dataframe\">\n",
       "  <thead>\n",
       "    <tr style=\"text-align: right;\">\n",
       "      <th></th>\n",
       "      <th>0</th>\n",
       "      <th>1</th>\n",
       "      <th>2</th>\n",
       "      <th>3</th>\n",
       "      <th>4</th>\n",
       "      <th>5</th>\n",
       "      <th>6</th>\n",
       "      <th>7</th>\n",
       "      <th>8</th>\n",
       "    </tr>\n",
       "  </thead>\n",
       "  <tbody>\n",
       "    <tr>\n",
       "      <th>5</th>\n",
       "      <td>紐西蘭</td>\n",
       "      <td>7611.444</td>\n",
       "      <td>-74.00</td>\n",
       "      <td>-0.96%</td>\n",
       "      <td>7685.450</td>\n",
       "      <td>7611.440</td>\n",
       "      <td>7685.450</td>\n",
       "      <td>10.61%</td>\n",
       "      <td>18:49</td>\n",
       "    </tr>\n",
       "    <tr>\n",
       "      <th>6</th>\n",
       "      <td>澳洲股市</td>\n",
       "      <td>5764.00</td>\n",
       "      <td>-91.90</td>\n",
       "      <td>-1.57%</td>\n",
       "      <td>5855.90</td>\n",
       "      <td>5760.10</td>\n",
       "      <td>0.79%</td>\n",
       "      <td>16:37</td>\n",
       "      <td>NaN</td>\n",
       "    </tr>\n",
       "    <tr>\n",
       "      <th>7</th>\n",
       "      <td>日經225</td>\n",
       "      <td>20033.43</td>\n",
       "      <td>-186.87</td>\n",
       "      <td>-0.92%</td>\n",
       "      <td>20044.01</td>\n",
       "      <td>19946.51</td>\n",
       "      <td>20025.63</td>\n",
       "      <td>4.81%</td>\n",
       "      <td>15:15</td>\n",
       "    </tr>\n",
       "    <tr>\n",
       "      <th>8</th>\n",
       "      <td>東證一部</td>\n",
       "      <td>1611.9</td>\n",
       "      <td>-12.17</td>\n",
       "      <td>-0.75%</td>\n",
       "      <td>1612.51</td>\n",
       "      <td>1604.82</td>\n",
       "      <td>1611.08</td>\n",
       "      <td>6.14%</td>\n",
       "      <td>15:00</td>\n",
       "    </tr>\n",
       "    <tr>\n",
       "      <th>9</th>\n",
       "      <td>東證二部</td>\n",
       "      <td>6141.51</td>\n",
       "      <td>-9.61</td>\n",
       "      <td>-0.16%</td>\n",
       "      <td>6141.79</td>\n",
       "      <td>6105.96</td>\n",
       "      <td>6108.14</td>\n",
       "      <td>17.43%</td>\n",
       "      <td>15:00</td>\n",
       "    </tr>\n",
       "    <tr>\n",
       "      <th>10</th>\n",
       "      <td>JASDAQ</td>\n",
       "      <td>145.12</td>\n",
       "      <td>0.14</td>\n",
       "      <td>0.10%</td>\n",
       "      <td>145.13</td>\n",
       "      <td>143.82</td>\n",
       "      <td>144.17</td>\n",
       "      <td>18.26%</td>\n",
       "      <td>15:00</td>\n",
       "    </tr>\n",
       "    <tr>\n",
       "      <th>11</th>\n",
       "      <td>韓國股市</td>\n",
       "      <td>2391.79</td>\n",
       "      <td>-3.87</td>\n",
       "      <td>-0.16%</td>\n",
       "      <td>2391.81</td>\n",
       "      <td>2381.40</td>\n",
       "      <td>2382.15</td>\n",
       "      <td>18.03%</td>\n",
       "      <td>18:03</td>\n",
       "    </tr>\n",
       "    <tr>\n",
       "      <th>12</th>\n",
       "      <td>台灣加權</td>\n",
       "      <td>10395.07</td>\n",
       "      <td>-26.58</td>\n",
       "      <td>-0.26%</td>\n",
       "      <td>10395.07</td>\n",
       "      <td>10329.84</td>\n",
       "      <td>10367.26</td>\n",
       "      <td>12.34%</td>\n",
       "      <td>13:47</td>\n",
       "    </tr>\n",
       "    <tr>\n",
       "      <th>13</th>\n",
       "      <td>台灣店頭</td>\n",
       "      <td>135.7</td>\n",
       "      <td>0.01</td>\n",
       "      <td>0.01%</td>\n",
       "      <td>135.70</td>\n",
       "      <td>134.66</td>\n",
       "      <td>135.69</td>\n",
       "      <td>8.40%</td>\n",
       "      <td>13:49</td>\n",
       "    </tr>\n",
       "    <tr>\n",
       "      <th>14</th>\n",
       "      <td>上海綜合</td>\n",
       "      <td>3192.427</td>\n",
       "      <td>4.36</td>\n",
       "      <td>0.14%</td>\n",
       "      <td>3193.241</td>\n",
       "      <td>3171.570</td>\n",
       "      <td>3176.948</td>\n",
       "      <td>2.86%</td>\n",
       "      <td>15:29</td>\n",
       "    </tr>\n",
       "    <tr>\n",
       "      <th>15</th>\n",
       "      <td>上海A股</td>\n",
       "      <td>3343.391</td>\n",
       "      <td>4.58</td>\n",
       "      <td>0.14%</td>\n",
       "      <td>3344.252</td>\n",
       "      <td>3321.520</td>\n",
       "      <td>3327.136</td>\n",
       "      <td>2.92%</td>\n",
       "      <td>15:29</td>\n",
       "    </tr>\n",
       "    <tr>\n",
       "      <th>16</th>\n",
       "      <td>上海B股</td>\n",
       "      <td>327.268</td>\n",
       "      <td>0.18</td>\n",
       "      <td>0.06%</td>\n",
       "      <td>327.386</td>\n",
       "      <td>325.974</td>\n",
       "      <td>327.007</td>\n",
       "      <td>-4.25%</td>\n",
       "      <td>15:29</td>\n",
       "    </tr>\n",
       "    <tr>\n",
       "      <th>17</th>\n",
       "      <td>深圳A股</td>\n",
       "      <td>1984.76</td>\n",
       "      <td>5.66</td>\n",
       "      <td>0.29%</td>\n",
       "      <td>1985.973</td>\n",
       "      <td>1970.297</td>\n",
       "      <td>1973.225</td>\n",
       "      <td>-3.65%</td>\n",
       "      <td>15:00</td>\n",
       "    </tr>\n",
       "    <tr>\n",
       "      <th>18</th>\n",
       "      <td>深圳B股</td>\n",
       "      <td>1151.194</td>\n",
       "      <td>4.26</td>\n",
       "      <td>0.37%</td>\n",
       "      <td>1151.39</td>\n",
       "      <td>1146.014</td>\n",
       "      <td>1147.203</td>\n",
       "      <td>2.08%</td>\n",
       "      <td>15:00</td>\n",
       "    </tr>\n",
       "    <tr>\n",
       "      <th>19</th>\n",
       "      <td>滬深300</td>\n",
       "      <td>3666.8</td>\n",
       "      <td>-2.03</td>\n",
       "      <td>-0.06%</td>\n",
       "      <td>3669.76</td>\n",
       "      <td>3646.23</td>\n",
       "      <td>3654.73</td>\n",
       "      <td>10.83%</td>\n",
       "      <td>15:01</td>\n",
       "    </tr>\n",
       "    <tr>\n",
       "      <th>20</th>\n",
       "      <td>深證成指</td>\n",
       "      <td>10529.61</td>\n",
       "      <td>17.75</td>\n",
       "      <td>0.17%</td>\n",
       "      <td>10537.50</td>\n",
       "      <td>10454.88</td>\n",
       "      <td>10475.22</td>\n",
       "      <td>3.33%</td>\n",
       "      <td>15:00</td>\n",
       "    </tr>\n",
       "    <tr>\n",
       "      <th>21</th>\n",
       "      <td>中小板指</td>\n",
       "      <td>6946.426</td>\n",
       "      <td>6.76</td>\n",
       "      <td>0.10%</td>\n",
       "      <td>6951.56</td>\n",
       "      <td>6883.12</td>\n",
       "      <td>6905.18</td>\n",
       "      <td>7.33%</td>\n",
       "      <td>15:00</td>\n",
       "    </tr>\n",
       "    <tr>\n",
       "      <th>22</th>\n",
       "      <td>創業板指</td>\n",
       "      <td>1818.07</td>\n",
       "      <td>4.52</td>\n",
       "      <td>0.25%</td>\n",
       "      <td>1819.88</td>\n",
       "      <td>1802.61</td>\n",
       "      <td>1808.08</td>\n",
       "      <td>-7.34%</td>\n",
       "      <td>15:00</td>\n",
       "    </tr>\n",
       "    <tr>\n",
       "      <th>23</th>\n",
       "      <td>香港恆生</td>\n",
       "      <td>25764.58</td>\n",
       "      <td>-200.84</td>\n",
       "      <td>-0.77%</td>\n",
       "      <td>25816.25</td>\n",
       "      <td>25661.43</td>\n",
       "      <td>25679.64</td>\n",
       "      <td>17.13%</td>\n",
       "      <td>16:08</td>\n",
       "    </tr>\n",
       "    <tr>\n",
       "      <th>24</th>\n",
       "      <td>香港國企</td>\n",
       "      <td>10365.22</td>\n",
       "      <td>-66.80</td>\n",
       "      <td>-0.64%</td>\n",
       "      <td>10387.33</td>\n",
       "      <td>10326.51</td>\n",
       "      <td>10335.75</td>\n",
       "      <td>10.08%</td>\n",
       "      <td>16:08</td>\n",
       "    </tr>\n",
       "    <tr>\n",
       "      <th>25</th>\n",
       "      <td>香港紅籌</td>\n",
       "      <td>4005.23</td>\n",
       "      <td>-18.31</td>\n",
       "      <td>-0.46%</td>\n",
       "      <td>4008.46</td>\n",
       "      <td>3985.67</td>\n",
       "      <td>3997.27</td>\n",
       "      <td>11.63%</td>\n",
       "      <td>06/30</td>\n",
       "    </tr>\n",
       "    <tr>\n",
       "      <th>26</th>\n",
       "      <td>香港創業板</td>\n",
       "      <td>283.62</td>\n",
       "      <td>-1.69</td>\n",
       "      <td>-0.59%</td>\n",
       "      <td>285.56</td>\n",
       "      <td>281.07</td>\n",
       "      <td>285.56</td>\n",
       "      <td>-19.88%</td>\n",
       "      <td>16:17</td>\n",
       "    </tr>\n",
       "    <tr>\n",
       "      <th>27</th>\n",
       "      <td>蒙古股市</td>\n",
       "      <td>12660.44</td>\n",
       "      <td>-65.38</td>\n",
       "      <td>-0.51%</td>\n",
       "      <td>12733.90</td>\n",
       "      <td>12644.86</td>\n",
       "      <td>12725.82</td>\n",
       "      <td>1.64%</td>\n",
       "      <td>14:10</td>\n",
       "    </tr>\n",
       "    <tr>\n",
       "      <th>28</th>\n",
       "      <td>新加坡</td>\n",
       "      <td>3226.48</td>\n",
       "      <td>-32.17</td>\n",
       "      <td>-0.99%</td>\n",
       "      <td>3246.10</td>\n",
       "      <td>3224.17</td>\n",
       "      <td>3243.79</td>\n",
       "      <td>11.32%</td>\n",
       "      <td>17:10</td>\n",
       "    </tr>\n",
       "    <tr>\n",
       "      <th>29</th>\n",
       "      <td>越南股市</td>\n",
       "      <td>776.47</td>\n",
       "      <td>4.72</td>\n",
       "      <td>0.61%</td>\n",
       "      <td>776.50</td>\n",
       "      <td>773.46</td>\n",
       "      <td>773.46</td>\n",
       "      <td>16.91%</td>\n",
       "      <td>15:01</td>\n",
       "    </tr>\n",
       "    <tr>\n",
       "      <th>30</th>\n",
       "      <td>泰國股市</td>\n",
       "      <td>1574.74</td>\n",
       "      <td>-3.38</td>\n",
       "      <td>-0.21%</td>\n",
       "      <td>1580.20</td>\n",
       "      <td>1572.44</td>\n",
       "      <td>1578.19</td>\n",
       "      <td>2.06%</td>\n",
       "      <td>17:07</td>\n",
       "    </tr>\n",
       "    <tr>\n",
       "      <th>31</th>\n",
       "      <td>菲律賓</td>\n",
       "      <td>7843.16</td>\n",
       "      <td>55.10</td>\n",
       "      <td>0.71%</td>\n",
       "      <td>7843.16</td>\n",
       "      <td>7734.52</td>\n",
       "      <td>7774.91</td>\n",
       "      <td>14.66%</td>\n",
       "      <td>15:20</td>\n",
       "    </tr>\n",
       "    <tr>\n",
       "      <th>32</th>\n",
       "      <td>馬來西亞</td>\n",
       "      <td>1763.67</td>\n",
       "      <td>-7.69</td>\n",
       "      <td>-0.43%</td>\n",
       "      <td>1772.59</td>\n",
       "      <td>1755.65</td>\n",
       "      <td>1770.32</td>\n",
       "      <td>7.80%</td>\n",
       "      <td>17:05</td>\n",
       "    </tr>\n",
       "    <tr>\n",
       "      <th>33</th>\n",
       "      <td>印尼股市</td>\n",
       "      <td>5829.708</td>\n",
       "      <td>11.16</td>\n",
       "      <td>0.19%</td>\n",
       "      <td>5831.340</td>\n",
       "      <td>5804.603</td>\n",
       "      <td>5830.978</td>\n",
       "      <td>10.06%</td>\n",
       "      <td>06/22</td>\n",
       "    </tr>\n",
       "    <tr>\n",
       "      <th>34</th>\n",
       "      <td>印度股市</td>\n",
       "      <td>30921.61</td>\n",
       "      <td>64.09</td>\n",
       "      <td>0.21%</td>\n",
       "      <td>30921.61</td>\n",
       "      <td>30680.66</td>\n",
       "      <td>30824.97</td>\n",
       "      <td>16.19%</td>\n",
       "      <td>17:36</td>\n",
       "    </tr>\n",
       "    <tr>\n",
       "      <th>35</th>\n",
       "      <td>巴基斯坦</td>\n",
       "      <td>32494.3</td>\n",
       "      <td>56.48</td>\n",
       "      <td>0.17%</td>\n",
       "      <td>32494.3</td>\n",
       "      <td>32296.76</td>\n",
       "      <td>32453.15</td>\n",
       "      <td>-0.96%</td>\n",
       "      <td>16:30</td>\n",
       "    </tr>\n",
       "    <tr>\n",
       "      <th>36</th>\n",
       "      <td>google_ad_client = \"ca-pub-9803646600609510\"; ...</td>\n",
       "      <td>NaN</td>\n",
       "      <td>NaN</td>\n",
       "      <td>NaN</td>\n",
       "      <td>NaN</td>\n",
       "      <td>NaN</td>\n",
       "      <td>NaN</td>\n",
       "      <td>NaN</td>\n",
       "      <td>NaN</td>\n",
       "    </tr>\n",
       "  </tbody>\n",
       "</table>\n",
       "</div>"
      ],
      "text/plain": [
       "                                                    0         1        2  \\\n",
       "5                                                 紐西蘭  7611.444   -74.00   \n",
       "6                                                澳洲股市   5764.00   -91.90   \n",
       "7                                               日經225  20033.43  -186.87   \n",
       "8                                                東證一部    1611.9   -12.17   \n",
       "9                                                東證二部   6141.51    -9.61   \n",
       "10                                             JASDAQ    145.12     0.14   \n",
       "11                                               韓國股市   2391.79    -3.87   \n",
       "12                                               台灣加權  10395.07   -26.58   \n",
       "13                                               台灣店頭     135.7     0.01   \n",
       "14                                               上海綜合  3192.427     4.36   \n",
       "15                                               上海A股  3343.391     4.58   \n",
       "16                                               上海B股   327.268     0.18   \n",
       "17                                               深圳A股   1984.76     5.66   \n",
       "18                                               深圳B股  1151.194     4.26   \n",
       "19                                              滬深300    3666.8    -2.03   \n",
       "20                                               深證成指  10529.61    17.75   \n",
       "21                                               中小板指  6946.426     6.76   \n",
       "22                                               創業板指   1818.07     4.52   \n",
       "23                                               香港恆生  25764.58  -200.84   \n",
       "24                                               香港國企  10365.22   -66.80   \n",
       "25                                               香港紅籌   4005.23   -18.31   \n",
       "26                                              香港創業板    283.62    -1.69   \n",
       "27                                               蒙古股市  12660.44   -65.38   \n",
       "28                                                新加坡   3226.48   -32.17   \n",
       "29                                               越南股市    776.47     4.72   \n",
       "30                                               泰國股市   1574.74    -3.38   \n",
       "31                                                菲律賓   7843.16    55.10   \n",
       "32                                               馬來西亞   1763.67    -7.69   \n",
       "33                                               印尼股市  5829.708    11.16   \n",
       "34                                               印度股市  30921.61    64.09   \n",
       "35                                               巴基斯坦   32494.3    56.48   \n",
       "36  google_ad_client = \"ca-pub-9803646600609510\"; ...       NaN      NaN   \n",
       "\n",
       "         3         4         5         6        7      8  \n",
       "5   -0.96%  7685.450  7611.440  7685.450   10.61%  18:49  \n",
       "6   -1.57%   5855.90   5760.10     0.79%    16:37    NaN  \n",
       "7   -0.92%  20044.01  19946.51  20025.63    4.81%  15:15  \n",
       "8   -0.75%   1612.51   1604.82   1611.08    6.14%  15:00  \n",
       "9   -0.16%   6141.79   6105.96   6108.14   17.43%  15:00  \n",
       "10   0.10%    145.13    143.82    144.17   18.26%  15:00  \n",
       "11  -0.16%   2391.81   2381.40   2382.15   18.03%  18:03  \n",
       "12  -0.26%  10395.07  10329.84  10367.26   12.34%  13:47  \n",
       "13   0.01%    135.70    134.66    135.69    8.40%  13:49  \n",
       "14   0.14%  3193.241  3171.570  3176.948    2.86%  15:29  \n",
       "15   0.14%  3344.252  3321.520  3327.136    2.92%  15:29  \n",
       "16   0.06%   327.386   325.974   327.007   -4.25%  15:29  \n",
       "17   0.29%  1985.973  1970.297  1973.225   -3.65%  15:00  \n",
       "18   0.37%   1151.39  1146.014  1147.203    2.08%  15:00  \n",
       "19  -0.06%   3669.76   3646.23   3654.73   10.83%  15:01  \n",
       "20   0.17%  10537.50  10454.88  10475.22    3.33%  15:00  \n",
       "21   0.10%   6951.56   6883.12   6905.18    7.33%  15:00  \n",
       "22   0.25%   1819.88   1802.61   1808.08   -7.34%  15:00  \n",
       "23  -0.77%  25816.25  25661.43  25679.64   17.13%  16:08  \n",
       "24  -0.64%  10387.33  10326.51  10335.75   10.08%  16:08  \n",
       "25  -0.46%   4008.46   3985.67   3997.27   11.63%  06/30  \n",
       "26  -0.59%    285.56    281.07    285.56  -19.88%  16:17  \n",
       "27  -0.51%  12733.90  12644.86  12725.82    1.64%  14:10  \n",
       "28  -0.99%   3246.10   3224.17   3243.79   11.32%  17:10  \n",
       "29   0.61%    776.50    773.46    773.46   16.91%  15:01  \n",
       "30  -0.21%   1580.20   1572.44   1578.19    2.06%  17:07  \n",
       "31   0.71%   7843.16   7734.52   7774.91   14.66%  15:20  \n",
       "32  -0.43%   1772.59   1755.65   1770.32    7.80%  17:05  \n",
       "33   0.19%  5831.340  5804.603  5830.978   10.06%  06/22  \n",
       "34   0.21%  30921.61  30680.66  30824.97   16.19%  17:36  \n",
       "35   0.17%   32494.3  32296.76  32453.15   -0.96%  16:30  \n",
       "36     NaN       NaN       NaN       NaN      NaN    NaN  "
      ]
     },
     "execution_count": 22,
     "metadata": {},
     "output_type": "execute_result"
    }
   ],
   "source": [
    "import html5lib\n",
    "url = 'http://www.stockq.org/market/asia.php'\n",
    "table = pd.read_html(url)[4]\n",
    "table = table.drop(table.columns[[0,1,2,3,4]],axis=0)\n",
    "table = table.drop(table.columns[9:296],axis=1)\n",
    "table"
   ]
  },
  {
   "cell_type": "code",
   "execution_count": 31,
   "metadata": {},
   "outputs": [
    {
     "name": "stderr",
     "output_type": "stream",
     "text": [
      "C:\\ProgramData\\Anaconda3\\lib\\site-packages\\pandas\\core\\indexing.py:179: SettingWithCopyWarning: \n",
      "A value is trying to be set on a copy of a slice from a DataFrame\n",
      "\n",
      "See the caveats in the documentation: http://pandas.pydata.org/pandas-docs/stable/indexing.html#indexing-view-versus-copy\n",
      "  self._setitem_with_indexer(indexer, value)\n"
     ]
    }
   ],
   "source": [
    "import html5lib\n",
    "url = 'https://www.google.com/finance/historical?q=TPE%3A2330&ei=jmVWWZChD4eI0ATIm7LACQ'\n",
    "table = pd.read_html(url)[2]\n",
    "table=table.drop(table.columns[[0]],axis=0)\n",
    "table.columns=['dates','open','high','low','close','volume']\n",
    "table[['open','high','low','close','volume']]=\\\n",
    "table[['open','high','low','close','volume']].astype(float)\n",
    "for i in range(1,len(table)+1):\n",
    "        table['dates'].loc[i]=\\\n",
    "        datetime.datetime.strptime(table['dates'].loc[i], \"%b %d, %Y\").date()\n",
    "table['dates']=dt.date2num(table['dates'])\n",
    "table=zip(table.dates,table.open,table.high,table.low,table.close,table.volume)\n",
    "#table.head(3)"
   ]
  },
  {
   "cell_type": "code",
   "execution_count": 32,
   "metadata": {},
   "outputs": [
    {
     "ename": "AttributeError",
     "evalue": "'zip' object has no attribute 'dtypes'",
     "output_type": "error",
     "traceback": [
      "\u001b[1;31m---------------------------------------------------------------------------\u001b[0m",
      "\u001b[1;31mAttributeError\u001b[0m                            Traceback (most recent call last)",
      "\u001b[1;32m<ipython-input-32-b74c2d0ab5cf>\u001b[0m in \u001b[0;36m<module>\u001b[1;34m()\u001b[0m\n\u001b[1;32m----> 1\u001b[1;33m \u001b[0mtable\u001b[0m\u001b[1;33m.\u001b[0m\u001b[0mdtypes\u001b[0m\u001b[1;33m\u001b[0m\u001b[0m\n\u001b[0m",
      "\u001b[1;31mAttributeError\u001b[0m: 'zip' object has no attribute 'dtypes'"
     ]
    }
   ],
   "source": [
    "table.dtypes"
   ]
  },
  {
   "cell_type": "markdown",
   "metadata": {},
   "source": [
    "# 繪製股票圖 匯入套件"
   ]
  },
  {
   "cell_type": "code",
   "execution_count": 8,
   "metadata": {
    "collapsed": true
   },
   "outputs": [],
   "source": [
    "import pandas as pd\n",
    "import matplotlib.pyplot as plt\n",
    "from matplotlib.dates import DateFormatter, WeekdayLocator,\\\n",
    "    DayLocator, MONDAY\n",
    "from matplotlib.finance import candlestick_ohlc\n",
    "import datetime\n",
    "import matplotlib.dates as dt"
   ]
  },
  {
   "cell_type": "markdown",
   "metadata": {},
   "source": [
    "# 繪製股票圖 "
   ]
  },
  {
   "cell_type": "code",
   "execution_count": 9,
   "metadata": {
    "collapsed": true
   },
   "outputs": [],
   "source": [
    "mondays = WeekdayLocator(MONDAY)        # major ticks on the mondays\n",
    "alldays = DayLocator()              # minor ticks on the days\n",
    "weekFormatter = DateFormatter('%b %d')  # e.g., Jan 12\n",
    "dayFormatter = DateFormatter('%d')      # e.g., 12"
   ]
  },
  {
   "cell_type": "code",
   "execution_count": 10,
   "metadata": {
    "collapsed": true
   },
   "outputs": [],
   "source": [
    "fig, ax = plt.subplots()\n",
    "fig.subplots_adjust(bottom=0.2)\n",
    "ax.xaxis.set_major_locator(mondays)\n",
    "ax.xaxis.set_minor_locator(alldays)\n",
    "ax.xaxis.set_major_formatter(weekFormatter)"
   ]
  },
  {
   "cell_type": "code",
   "execution_count": 33,
   "metadata": {},
   "outputs": [
    {
     "data": {
      "image/png": "[encoded data removed]",
      "text/plain": [
       "<matplotlib.figure.Figure at 0x7d59ff0>"
      ]
     },
     "metadata": {},
     "output_type": "display_data"
    }
   ],
   "source": [
    "candlestick_ohlc(ax, table, width=0.6)\n",
    "ax.xaxis_date()\n",
    "ax.autoscale_view()\n",
    "plt.setp(plt.gca().get_xticklabels(), rotation=45, horizontalalignment='right')\n",
    "plt.show()"
   ]
  },
  {
   "cell_type": "markdown",
   "metadata": {},
   "source": [
    "# 使用自定套件"
   ]
  },
  {
   "cell_type": "code",
   "execution_count": 15,
   "metadata": {},
   "outputs": [
    {
     "name": "stdout",
     "output_type": "stream",
     "text": [
      "list index out of range\n"
     ]
    },
    {
     "name": "stderr",
     "output_type": "stream",
     "text": [
      "C:\\ProgramData\\Anaconda3\\lib\\site-packages\\pandas\\core\\indexing.py:179: SettingWithCopyWarning: \n",
      "A value is trying to be set on a copy of a slice from a DataFrame\n",
      "\n",
      "See the caveats in the documentation: http://pandas.pydata.org/pandas-docs/stable/indexing.html#indexing-view-versus-copy\n",
      "  self._setitem_with_indexer(indexer, value)\n",
      "D:\\ipython\\ProgramTrade\\class_GetGoogleFinance.py:73: FutureWarning: by argument to sort_index is deprecated, pls use .sort_values(by=...)\n",
      "  Data=Data.sort_index(by=['dates'],ascending=[True])\n"
     ]
    },
    {
     "data": {
      "text/html": [
       "<div>\n",
       "<style>\n",
       "    .dataframe thead tr:only-child th {\n",
       "        text-align: right;\n",
       "    }\n",
       "\n",
       "    .dataframe thead th {\n",
       "        text-align: left;\n",
       "    }\n",
       "\n",
       "    .dataframe tbody tr th {\n",
       "        vertical-align: top;\n",
       "    }\n",
       "</style>\n",
       "<table border=\"1\" class=\"dataframe\">\n",
       "  <thead>\n",
       "    <tr style=\"text-align: right;\">\n",
       "      <th></th>\n",
       "      <th>dates</th>\n",
       "      <th>open</th>\n",
       "      <th>high</th>\n",
       "      <th>low</th>\n",
       "      <th>close</th>\n",
       "      <th>volume</th>\n",
       "    </tr>\n",
       "  </thead>\n",
       "  <tbody>\n",
       "    <tr>\n",
       "      <th>40</th>\n",
       "      <td>2017-05-02</td>\n",
       "      <td>198.5</td>\n",
       "      <td>199.0</td>\n",
       "      <td>195.5</td>\n",
       "      <td>196.5</td>\n",
       "      <td>44102000.0</td>\n",
       "    </tr>\n",
       "    <tr>\n",
       "      <th>39</th>\n",
       "      <td>2017-05-03</td>\n",
       "      <td>198.0</td>\n",
       "      <td>198.5</td>\n",
       "      <td>197.0</td>\n",
       "      <td>198.0</td>\n",
       "      <td>25702000.0</td>\n",
       "    </tr>\n",
       "    <tr>\n",
       "      <th>38</th>\n",
       "      <td>2017-05-04</td>\n",
       "      <td>198.5</td>\n",
       "      <td>199.0</td>\n",
       "      <td>197.0</td>\n",
       "      <td>198.0</td>\n",
       "      <td>22076000.0</td>\n",
       "    </tr>\n",
       "    <tr>\n",
       "      <th>37</th>\n",
       "      <td>2017-05-05</td>\n",
       "      <td>197.0</td>\n",
       "      <td>198.5</td>\n",
       "      <td>197.0</td>\n",
       "      <td>197.5</td>\n",
       "      <td>17022000.0</td>\n",
       "    </tr>\n",
       "    <tr>\n",
       "      <th>36</th>\n",
       "      <td>2017-05-08</td>\n",
       "      <td>199.0</td>\n",
       "      <td>202.5</td>\n",
       "      <td>199.0</td>\n",
       "      <td>202.5</td>\n",
       "      <td>36514000.0</td>\n",
       "    </tr>\n",
       "  </tbody>\n",
       "</table>\n",
       "</div>"
      ],
      "text/plain": [
       "         dates   open   high    low  close      volume\n",
       "40  2017-05-02  198.5  199.0  195.5  196.5  44102000.0\n",
       "39  2017-05-03  198.0  198.5  197.0  198.0  25702000.0\n",
       "38  2017-05-04  198.5  199.0  197.0  198.0  22076000.0\n",
       "37  2017-05-05  197.0  198.5  197.0  197.5  17022000.0\n",
       "36  2017-05-08  199.0  202.5  199.0  202.5  36514000.0"
      ]
     },
     "execution_count": 15,
     "metadata": {},
     "output_type": "execute_result"
    }
   ],
   "source": [
    "import ProgramTrade.class_GetGoogleFinance as Gf\n",
    "import datetime\n",
    "stkno='2330'\n",
    "start=datetime.datetime(2017,5,1)\n",
    "end=datetime.datetime(2017,7,1)\n",
    "gf=Gf.GetGoogleFinance(stkno,start,end)\n",
    "gf.getid()\n",
    "Data=gf.getstock(True)\n",
    "Data.head()"
   ]
  },
  {
   "cell_type": "markdown",
   "metadata": {},
   "source": [
    "# 繪製OHLC股票圖"
   ]
  },
  {
   "cell_type": "code",
   "execution_count": 16,
   "metadata": {
    "collapsed": true
   },
   "outputs": [],
   "source": [
    "import matplotlib.pyplot as plt\n",
    "from matplotlib.dates import DateFormatter, MonthLocator\n",
    "from matplotlib.finance import candlestick_ohlc\n",
    "import datetime\n",
    "import matplotlib.dates as dt\n",
    "mondays = MonthLocator(bymonthday=1)\n",
    "MonthFormatter = DateFormatter('%b %d %Y')"
   ]
  },
  {
   "cell_type": "code",
   "execution_count": 17,
   "metadata": {},
   "outputs": [
    {
     "data": {
      "image/png": "[encoded data removed]",
      "text/plain": [
       "<matplotlib.figure.Figure at 0x9d96b10>"
      ]
     },
     "metadata": {},
     "output_type": "display_data"
    }
   ],
   "source": [
    "Data['dates']=dt.date2num(Data['dates'])\n",
    "quotes=zip(Data.dates,Data.open,Data.high,Data.low,Data.close,Data.volume)    \n",
    "fig, ax = plt.subplots()\n",
    "fig.subplots_adjust(bottom=0.2)\n",
    "ax.xaxis.set_minor_locator(mondays)\n",
    "ax.xaxis.set_major_formatter(MonthFormatter)\n",
    "candlestick_ohlc(ax, quotes, width=0.6)\n",
    "plt.setp(plt.gca().get_xticklabels(), rotation=45, horizontalalignment='right')\n",
    "plt.title(stkno)\n",
    "plt.show()"
   ]
  },
  {
   "cell_type": "code",
   "execution_count": 5,
   "metadata": {
    "collapsed": true
   },
   "outputs": [],
   "source": [
    "Open=table['開盤價']"
   ]
  },
  {
   "cell_type": "code",
   "execution_count": 6,
   "metadata": {
    "collapsed": true
   },
   "outputs": [],
   "source": [
    "Updown=table['漲跌點數']"
   ]
  },
  {
   "cell_type": "code",
   "execution_count": 7,
   "metadata": {
    "scrolled": true
   },
   "outputs": [
    {
     "data": {
      "text/plain": [
       "0    28.04\n",
       "1    28.14\n",
       "2    27.57\n",
       "3    27.76\n",
       "4    26.96\n",
       "Name: 開盤價, dtype: float64"
      ]
     },
     "execution_count": 7,
     "metadata": {},
     "output_type": "execute_result"
    }
   ],
   "source": [
    "Open.head()"
   ]
  },
  {
   "cell_type": "code",
   "execution_count": null,
   "metadata": {
    "collapsed": true
   },
   "outputs": [],
   "source": [
    "計算資料範圍"
   ]
  },
  {
   "cell_type": "code",
   "execution_count": 8,
   "metadata": {
    "collapsed": true
   },
   "outputs": [],
   "source": [
    "(r,c)=table.shape"
   ]
  },
  {
   "cell_type": "code",
   "execution_count": 9,
   "metadata": {},
   "outputs": [
    {
     "data": {
      "text/plain": [
       "(325, 3)"
      ]
     },
     "execution_count": 9,
     "metadata": {},
     "output_type": "execute_result"
    }
   ],
   "source": [
    "(r,c)"
   ]
  },
  {
   "cell_type": "code",
   "execution_count": null,
   "metadata": {
    "collapsed": true
   },
   "outputs": [],
   "source": [
    "新增工作區陣列(r,5)"
   ]
  },
  {
   "cell_type": "code",
   "execution_count": 10,
   "metadata": {
    "collapsed": true
   },
   "outputs": [],
   "source": [
    "wk=np.zeros((r,5))"
   ]
  },
  {
   "cell_type": "code",
   "execution_count": null,
   "metadata": {
    "collapsed": true
   },
   "outputs": [],
   "source": [
    "定義工作参數 心理線指標值= 10, 上限值= 0.75, 下限值= 0.25"
   ]
  },
  {
   "cell_type": "code",
   "execution_count": 11,
   "metadata": {
    "collapsed": true
   },
   "outputs": [],
   "source": [
    "n=10; upb=0.75; lob=0.25"
   ]
  },
  {
   "cell_type": "code",
   "execution_count": 12,
   "metadata": {
    "collapsed": true
   },
   "outputs": [],
   "source": [
    "wk[n-2,2:5]=[2,0,1]"
   ]
  },
  {
   "cell_type": "code",
   "execution_count": null,
   "metadata": {
    "collapsed": true
   },
   "outputs": [],
   "source": [
    "計算Buy & Hold報酬"
   ]
  },
  {
   "cell_type": "code",
   "execution_count": 13,
   "metadata": {
    "collapsed": true
   },
   "outputs": [],
   "source": [
    "BH = (Open[r-1] - Open[n-1])*100 / Open[n-1]"
   ]
  },
  {
   "cell_type": "code",
   "execution_count": 19,
   "metadata": {},
   "outputs": [
    {
     "name": "stdout",
     "output_type": "stream",
     "text": [
      "BH報酬率 = 76.24 %\n"
     ]
    }
   ],
   "source": [
    "print('BH報酬率 = {:5.2f} %'.format(BH))"
   ]
  },
  {
   "cell_type": "code",
   "execution_count": null,
   "metadata": {
    "collapsed": true
   },
   "outputs": [],
   "source": [
    "判斷漲跌"
   ]
  },
  {
   "cell_type": "code",
   "execution_count": 14,
   "metadata": {
    "collapsed": true
   },
   "outputs": [],
   "source": [
    "for i in range(r):\n",
    "    if Updown[i] > 0:\n",
    "        wk[i,0] = 1\n",
    "    else:\n",
    "        wk[i,0] = 0"
   ]
  },
  {
   "cell_type": "code",
   "execution_count": null,
   "metadata": {
    "collapsed": true
   },
   "outputs": [],
   "source": [
    "計算心理線指標"
   ]
  },
  {
   "cell_type": "code",
   "execution_count": 28,
   "metadata": {
    "collapsed": true
   },
   "outputs": [],
   "source": [
    "for i in range(n-1,r):\n",
    "    wk[i,1] = wk[i-n+1: i+1,0].mean()"
   ]
  },
  {
   "cell_type": "code",
   "execution_count": null,
   "metadata": {
    "collapsed": true
   },
   "outputs": [],
   "source": [
    "判斷買賣點"
   ]
  },
  {
   "cell_type": "code",
   "execution_count": 29,
   "metadata": {
    "collapsed": true
   },
   "outputs": [],
   "source": [
    "for i in range(n-1,r):\n",
    "    if wk[i,1] <= lob:\n",
    "        wk[i,2] = 1\n",
    "    elif wk[i,1] >= upb:\n",
    "        wk[i,2] = 3\n",
    "    else:\n",
    "        wk[i,2] = 2"
   ]
  },
  {
   "cell_type": "code",
   "execution_count": null,
   "metadata": {
    "collapsed": true
   },
   "outputs": [],
   "source": [
    "計算庫存股數"
   ]
  },
  {
   "cell_type": "code",
   "execution_count": 35,
   "metadata": {
    "collapsed": true
   },
   "outputs": [],
   "source": [
    "for i in range(n-1,r):\n",
    "    if wk[i-1,2] == 1:\n",
    "        wk[i,3] = wk[i-1,4] / Open[i] + wk[i-1,3]\n",
    "    elif wk[i-1,2] == 2:\n",
    "        wk[i,3] = wk[i-1,3]\n",
    "    else:\n",
    "        wk[i,3] = 0"
   ]
  },
  {
   "cell_type": "code",
   "execution_count": 36,
   "metadata": {},
   "outputs": [
    {
     "data": {
      "text/plain": [
       "array([[ 0.        ,  0.        ,  0.        ,  0.        ,  0.        ],\n",
       "       [ 0.        ,  0.        ,  0.        ,  0.        ,  0.        ],\n",
       "       [ 0.        ,  0.        ,  0.        ,  0.        ,  0.        ],\n",
       "       ..., \n",
       "       [ 1.        ,  0.3       ,  2.        ,  0.02316581,  0.        ],\n",
       "       [ 0.        ,  0.2       ,  1.        ,  0.02316581,  0.        ],\n",
       "       [ 0.        ,  0.2       ,  1.        ,  0.02316581,  0.        ]])"
      ]
     },
     "execution_count": 36,
     "metadata": {},
     "output_type": "execute_result"
    }
   ],
   "source": [
    "wk"
   ]
  },
  {
   "cell_type": "code",
   "execution_count": null,
   "metadata": {
    "collapsed": true
   },
   "outputs": [],
   "source": [
    "計算現金餘額"
   ]
  },
  {
   "cell_type": "code",
   "execution_count": 37,
   "metadata": {
    "collapsed": true
   },
   "outputs": [],
   "source": [
    "for i in range(n-1,r):\n",
    "    if wk[i-1,2] == 1:\n",
    "        wk[i,4] = 0\n",
    "    elif wk[i-1,2] == 2:\n",
    "        wk[i,4] = wk[i-1,4]\n",
    "    else:\n",
    "        wk[i,4] = wk[i-1,3] * Open[i] + wk[i-1,4]"
   ]
  },
  {
   "cell_type": "code",
   "execution_count": 38,
   "metadata": {},
   "outputs": [
    {
     "data": {
      "text/plain": [
       "array([[ 0.        ,  0.        ,  0.        ,  0.        ,  0.        ],\n",
       "       [ 0.        ,  0.        ,  0.        ,  0.        ,  0.        ],\n",
       "       [ 0.        ,  0.        ,  0.        ,  0.        ,  0.        ],\n",
       "       ..., \n",
       "       [ 1.        ,  0.3       ,  2.        ,  0.02316581,  0.        ],\n",
       "       [ 0.        ,  0.2       ,  1.        ,  0.02316581,  0.        ],\n",
       "       [ 0.        ,  0.2       ,  1.        ,  0.02316581,  0.        ]])"
      ]
     },
     "execution_count": 38,
     "metadata": {},
     "output_type": "execute_result"
    }
   ],
   "source": [
    "wk"
   ]
  },
  {
   "cell_type": "code",
   "execution_count": null,
   "metadata": {
    "collapsed": true
   },
   "outputs": [],
   "source": [
    "計算報酬率"
   ]
  },
  {
   "cell_type": "code",
   "execution_count": 39,
   "metadata": {
    "collapsed": true
   },
   "outputs": [],
   "source": [
    "Rt = (Open[r-1] * wk[r-1,3] + wk[r-1,4] - wk[n-2,4]) / wk[n-2,4]"
   ]
  },
  {
   "cell_type": "code",
   "execution_count": 40,
   "metadata": {},
   "outputs": [
    {
     "name": "stdout",
     "output_type": "stream",
     "text": [
      "報酬率 = 15.83 %\n"
     ]
    }
   ],
   "source": [
    "print('報酬率 = {:5.2f} %'.format(Rt * 100))"
   ]
  },
  {
   "cell_type": "code",
   "execution_count": 42,
   "metadata": {},
   "outputs": [
    {
     "data": {
      "text/plain": [
       "array([[ 0.        ,  0.        ,  0.        ,  0.        ,  0.        ],\n",
       "       [ 0.        ,  0.        ,  0.        ,  0.        ,  0.        ],\n",
       "       [ 0.        ,  0.        ,  0.        ,  0.        ,  0.        ],\n",
       "       ..., \n",
       "       [ 1.        ,  0.3       ,  2.        ,  0.02316581,  0.        ],\n",
       "       [ 0.        ,  0.2       ,  1.        ,  0.02316581,  0.        ],\n",
       "       [ 0.        ,  0.2       ,  1.        ,  0.02316581,  0.        ]])"
      ]
     },
     "execution_count": 42,
     "metadata": {},
     "output_type": "execute_result"
    }
   ],
   "source": [
    "wk"
   ]
  },
  {
   "cell_type": "code",
   "execution_count": null,
   "metadata": {
    "collapsed": true
   },
   "outputs": [],
   "source": []
  }
 ],
 "metadata": {
  "kernelspec": {
   "display_name": "Python 3",
   "language": "python",
   "name": "python3"
  },
  "language_info": {
   "codemirror_mode": {
    "name": "ipython",
    "version": 3
   },
   "file_extension": ".py",
   "mimetype": "text/x-python",
   "name": "python",
   "nbconvert_exporter": "python",
   "pygments_lexer": "ipython3",
   "version": "3.6.1"
  }
 },
 "nbformat": 4,
 "nbformat_minor": 2
}
